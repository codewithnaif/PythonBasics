{
 "cells": [
  {
   "cell_type": "markdown",
   "metadata": {
    "id": "H1YYoZTLMMes"
   },
   "source": [
    "# **BASIC QUESTIONS**\n",
    "\n",
    "#1) What is Python, and why is it popular?\n",
    "Python is a high-level programming language. It is easy to read and write because it uses simple english-like syntax.\n",
    "\n",
    "It is so popular because:\n",
    "1. Easy to Learn – Its simple syntax makes it beginner-friendly.\n",
    "2. Versatile – It is used in web development, data science, automation, AI, and more.\n",
    "3. Large Community – Many people use Python, so it’s easy to find help and resources.\n",
    "4. Many Libraries – Python has a lot of ready-made tools (libraries) for different tasks.\n",
    "5. Free and Open Source – Anyone can use it without paying.\n",
    "\n",
    "#2) What is an interpreter in Python?\n",
    "An interpreter in Python is a program that reads and runs the Python code line by line.\n",
    "#3) What are pre-defined keywords in Python?\n",
    "Pre-defined keywords are special words in Python that have fixed meanings and uses, like `if`, `else`, `for`, `True`, etc.\n",
    "\n",
    "#4) Can keywords be used as variable names?\n",
    "No, keywords cannot be used as variable names because they are reserved by Python for specific tasks.\n",
    "\n",
    "#5) What is mutability in Python?\n",
    "Mutability means if a value can be changed after it is created. If yes, it is mutable; if no, it is immutable.\n",
    "\n",
    "#6) Why are lists mutable, but tuples are immutable?\n",
    "Lists are designed to change data (add, remove, update), but tuples are fixed, which makes them safer and faster in some cases.\n",
    "\n",
    "#7) What is the difference between “==” and “is” operators in Python?\n",
    "`==` checks if values are equal.\n",
    "`is` checks if two things are the same object in memory.\n",
    "\n",
    "#8) What are logical operators in Python?\n",
    "Logical operators are used to combine conditions:\n",
    "1. `and` (both true)\n",
    "2. `or` (any one true)\n",
    "3. `not` (reverse the result)\n",
    "\n",
    "#9) What is type casting in Python?\n",
    "Type casting means changing one data type to another, like turning a string into an integer.\n",
    "\n",
    "#10) What is the difference between implicit and explicit type casting?\n",
    "*   Implicit: Python changes the type automatically.\n",
    "*   Explicit: We change the type using functions like int(), str(), etc.\n",
    "\n",
    "#11) What is the purpose of conditional statements in Python?\n",
    "Conditional statements help run different code depending on whether a condition is true or false.\n",
    "\n",
    "#12) How does the elif statement work?\n",
    "`elif` checks another condition `if` the first if is false. It comes between `if` and `else`.\n",
    "\n",
    "#13) What is the difference between for and while loops?\n",
    "* for loop: Runs a set number of times.\n",
    "* while loop: Runs until a condition becomes false.\n",
    "\n",
    "#14) Describe a scenario where a while loop is more suitable than a for loop?\n",
    "When we don't know how many times to run the loop, like waiting for user input to type “exit”."
   ]
  },
  {
   "cell_type": "markdown",
   "metadata": {
    "id": "-0jzd6pQRKUD"
   },
   "source": [
    "# **PRACTICAL QUESTIONS**"
   ]
  },
  {
   "cell_type": "markdown",
   "metadata": {
    "id": "_8sQJ-nkU9jc"
   },
   "source": [
    "# Write a Python program to print \"Hello, World!\""
   ]
  },
  {
   "cell_type": "code",
   "execution_count": 1,
   "metadata": {
    "colab": {
     "base_uri": "https://localhost:8080/"
    },
    "executionInfo": {
     "elapsed": 28,
     "status": "ok",
     "timestamp": 1744365588855,
     "user": {
      "displayName": "Naif",
      "userId": "04792772835531511803"
     },
     "user_tz": -330
    },
    "id": "P_mgGNaAQl8V",
    "outputId": "59a40782-da93-4811-bad0-1f82cb6abf1a"
   },
   "outputs": [
    {
     "name": "stdout",
     "output_type": "stream",
     "text": [
      "Hello, World!\n"
     ]
    }
   ],
   "source": [
    "print(\"Hello, World!\")\n"
   ]
  },
  {
   "cell_type": "markdown",
   "metadata": {
    "id": "uFrBkbYpU7XA"
   },
   "source": [
    "# Write a Python program that displays your name and age"
   ]
  },
  {
   "cell_type": "code",
   "execution_count": 2,
   "metadata": {
    "colab": {
     "base_uri": "https://localhost:8080/"
    },
    "executionInfo": {
     "elapsed": 7298,
     "status": "ok",
     "timestamp": 1744365638016,
     "user": {
      "displayName": "Naif",
      "userId": "04792772835531511803"
     },
     "user_tz": -330
    },
    "id": "fZL735qkSmHc",
    "outputId": "0307d928-a303-4676-cf43-1b3f83fadb77"
   },
   "outputs": [
    {
     "name": "stdout",
     "output_type": "stream",
     "text": [
      "What is your name? Naif\n",
      "What is your age? 18\n",
      "Your name is Naif and you are 18 years old\n"
     ]
    }
   ],
   "source": [
    "# name and age of the user\n",
    "name = input(\"What is your name? \")\n",
    "age = int(input(\"What is your age? \"))\n",
    "print(f\"Your name is {name} and you are {age} years old\") # f-string used for formating"
   ]
  },
  {
   "cell_type": "markdown",
   "metadata": {
    "id": "ikI7kOnpU46D"
   },
   "source": [
    "# Write code to print all the pre-defined keywords in Python using the keyword library"
   ]
  },
  {
   "cell_type": "code",
   "execution_count": 4,
   "metadata": {
    "colab": {
     "base_uri": "https://localhost:8080/"
    },
    "executionInfo": {
     "elapsed": 21,
     "status": "ok",
     "timestamp": 1744365765555,
     "user": {
      "displayName": "Naif",
      "userId": "04792772835531511803"
     },
     "user_tz": -330
    },
    "id": "uKIUWdBOSzPJ",
    "outputId": "0b6ed805-34ce-4eba-9662-0462287b0bc7"
   },
   "outputs": [
    {
     "name": "stdout",
     "output_type": "stream",
     "text": [
      "['False', 'None', 'True', 'and', 'as', 'assert', 'async', 'await', 'break', 'class', 'continue', 'def', 'del', 'elif', 'else', 'except', 'finally', 'for', 'from', 'global', 'if', 'import', 'in', 'is', 'lambda', 'nonlocal', 'not', 'or', 'pass', 'raise', 'return', 'try', 'while', 'with', 'yield']\n"
     ]
    }
   ],
   "source": [
    "# importing keyword to know the list of keywords\n",
    "import keyword\n",
    "print(keyword.kwlist)\n",
    "## searched on google!!"
   ]
  },
  {
   "cell_type": "markdown",
   "metadata": {
    "id": "O3fcGRfQU0lQ"
   },
   "source": [
    "# Write a program that checks if a given word is a Python keyword."
   ]
  },
  {
   "cell_type": "code",
   "execution_count": 13,
   "metadata": {
    "colab": {
     "base_uri": "https://localhost:8080/"
    },
    "executionInfo": {
     "elapsed": 2631,
     "status": "ok",
     "timestamp": 1744367033682,
     "user": {
      "displayName": "Naif",
      "userId": "04792772835531511803"
     },
     "user_tz": -330
    },
    "id": "uSl-hHM2TPOu",
    "outputId": "c091a934-9406-4d95-aa9c-fd77b4566eb0"
   },
   "outputs": [
    {
     "name": "stdout",
     "output_type": "stream",
     "text": [
      "What is your word:def\n",
      "def is a keyword\n"
     ]
    }
   ],
   "source": [
    "import keyword\n",
    "word=input(\"What is your word:\")\n",
    "if word in keyword.kwlist:\n",
    "  print(f\"{word} is a keyword\")\n",
    "else:\n",
    "  print(f\"{word} is not a keyword\")"
   ]
  },
  {
   "cell_type": "markdown",
   "metadata": {
    "id": "qowDRTPrUtiN"
   },
   "source": [
    "# Create a list and tuple in Python, and demonstrate how attempting to change an element works differently for each."
   ]
  },
  {
   "cell_type": "code",
   "execution_count": 7,
   "metadata": {
    "executionInfo": {
     "elapsed": 10,
     "status": "ok",
     "timestamp": 1744366052264,
     "user": {
      "displayName": "Naif",
      "userId": "04792772835531511803"
     },
     "user_tz": -330
    },
    "id": "AI3Kn2BsTxeg"
   },
   "outputs": [],
   "source": [
    "list1=[1,2,3]  # lists are mutable\n",
    "tuple1=(4,5,6) # tuples are immutable\n",
    "\n",
    "list1.append(4)"
   ]
  },
  {
   "cell_type": "code",
   "execution_count": 9,
   "metadata": {
    "colab": {
     "base_uri": "https://localhost:8080/"
    },
    "executionInfo": {
     "elapsed": 14,
     "status": "ok",
     "timestamp": 1744366079915,
     "user": {
      "displayName": "Naif",
      "userId": "04792772835531511803"
     },
     "user_tz": -330
    },
    "id": "CUZ1oi-OUaJj",
    "outputId": "2ed22602-980d-4995-e3c5-f9107990d5a7"
   },
   "outputs": [
    {
     "data": {
      "text/plain": [
       "[1, 2, 3, 4]"
      ]
     },
     "execution_count": 9,
     "metadata": {},
     "output_type": "execute_result"
    }
   ],
   "source": [
    "list1 # adding an element using append function"
   ]
  },
  {
   "cell_type": "code",
   "execution_count": null,
   "metadata": {
    "id": "lcqnv5VtUa8y"
   },
   "outputs": [],
   "source": [
    "tuple1.append(4) # gives an error as it is iummutable"
   ]
  },
  {
   "cell_type": "markdown",
   "metadata": {
    "id": "-mt9S1qSWNEy"
   },
   "source": [
    " # Write a program that performs basic arithmetic operations on two user-input numbers."
   ]
  },
  {
   "cell_type": "code",
   "execution_count": 12,
   "metadata": {
    "colab": {
     "base_uri": "https://localhost:8080/"
    },
    "executionInfo": {
     "elapsed": 5578,
     "status": "ok",
     "timestamp": 1744366622688,
     "user": {
      "displayName": "Naif",
      "userId": "04792772835531511803"
     },
     "user_tz": -330
    },
    "id": "L_RxyryDWOqG",
    "outputId": "6dfccbc5-b7a9-4da3-f02a-7992c63c02b8"
   },
   "outputs": [
    {
     "name": "stdout",
     "output_type": "stream",
     "text": [
      "Enter a number: 10\n",
      "Enter another number: 2\n",
      "Addition: 12\n",
      "Subtraction: 8\n",
      "Multiplication: 20\n",
      "Division: 5.0\n",
      "Floor Division: 5\n",
      "Modulus: 0\n",
      "Exponent: 100\n"
     ]
    }
   ],
   "source": [
    "x=int(input(\"Enter a number: \"))\n",
    "y=int(input(\"Enter another number: \"))\n",
    "print(f\"Addition: {x+y}\")   # f-string used for formating\n",
    "print(f\"Subtraction: {x-y}\")\n",
    "print(f\"Multiplication: {x*y}\")\n",
    "print(f\"Division: {x/y}\")\n",
    "print(f\"Floor Division: {x//y}\")\n",
    "print(f\"Modulus: {x%y}\")\n",
    "print(f\"Exponent: {x**y}\")"
   ]
  },
  {
   "cell_type": "markdown",
   "metadata": {
    "id": "ThFyaFywW_q6"
   },
   "source": [
    "# Write a program to demonstrate the use of logical operators."
   ]
  },
  {
   "cell_type": "code",
   "execution_count": 14,
   "metadata": {
    "colab": {
     "base_uri": "https://localhost:8080/"
    },
    "executionInfo": {
     "elapsed": 6523,
     "status": "ok",
     "timestamp": 1744367152284,
     "user": {
      "displayName": "Naif",
      "userId": "04792772835531511803"
     },
     "user_tz": -330
    },
    "id": "cHxW6xAXWkDc",
    "outputId": "a68607d5-000c-417d-892f-249e5dae9eda"
   },
   "outputs": [
    {
     "name": "stdout",
     "output_type": "stream",
     "text": [
      "Enter the first number: 10\n",
      "Enter the second number: 12\n",
      "False\n",
      "True\n",
      "False\n",
      "True\n",
      "False\n",
      "True\n"
     ]
    }
   ],
   "source": [
    "# Input two numbers from the user\n",
    "num1 = int(input(\"Enter the first number: \"))\n",
    "num2 = int(input(\"Enter the second number: \"))\n",
    "\n",
    "# Demonstrate logical operators\n",
    "print(num1>num2)\n",
    "print(num1<num2)\n",
    "print(num1==num2)\n",
    "print(num1!=num2)\n",
    "print(num1>=num2)\n",
    "print(num1<=num2)"
   ]
  },
  {
   "cell_type": "markdown",
   "metadata": {
    "id": "Dwsffz3PYvwc"
   },
   "source": [
    " # Write a Python program to convert user input from string to integer, float, and boolean types."
   ]
  },
  {
   "cell_type": "code",
   "execution_count": 19,
   "metadata": {
    "colab": {
     "base_uri": "https://localhost:8080/"
    },
    "executionInfo": {
     "elapsed": 3582,
     "status": "ok",
     "timestamp": 1744367456278,
     "user": {
      "displayName": "Naif",
      "userId": "04792772835531511803"
     },
     "user_tz": -330
    },
    "id": "6cDwHSNJYlGh",
    "outputId": "17bb14db-12a7-486c-ad0a-ce0e8f40bce4"
   },
   "outputs": [
    {
     "name": "stdout",
     "output_type": "stream",
     "text": [
      "Enter anything : 10\n",
      "String: 10\n",
      "Integer: 10\n",
      "Float: 10.0\n",
      "Boolean: True\n"
     ]
    }
   ],
   "source": [
    "# In this program only num input is valid otherwise it will give error because the literal string cannot be converted to integer.\n",
    "inputany=input(\"Enter anything : \")\n",
    "print(f\"String: {inputany}\")\n",
    "print(f\"Integer: {int(inputany)}\")\n",
    "print(f\"Float: {float(inputany)}\")\n",
    "print(f\"Boolean: {bool(inputany)}\")"
   ]
  },
  {
   "cell_type": "markdown",
   "metadata": {
    "id": "HzMIzY3FZ9yS"
   },
   "source": [
    "# Write code to demonstrate type casting with list elements."
   ]
  },
  {
   "cell_type": "code",
   "execution_count": 20,
   "metadata": {
    "colab": {
     "base_uri": "https://localhost:8080/"
    },
    "executionInfo": {
     "elapsed": 7,
     "status": "ok",
     "timestamp": 1744367558481,
     "user": {
      "displayName": "Naif",
      "userId": "04792772835531511803"
     },
     "user_tz": -330
    },
    "id": "lHpR5FcKZMmZ",
    "outputId": "91dcdc7d-4fd9-4be7-f103-f521119ac341"
   },
   "outputs": [
    {
     "data": {
      "text/plain": [
       "dict"
      ]
     },
     "execution_count": 20,
     "metadata": {},
     "output_type": "execute_result"
    }
   ],
   "source": [
    "# type()  this will return the data type of any variable\n",
    "x={}\n",
    "type(x)"
   ]
  },
  {
   "cell_type": "code",
   "execution_count": 23,
   "metadata": {
    "colab": {
     "base_uri": "https://localhost:8080/"
    },
    "executionInfo": {
     "elapsed": 5,
     "status": "ok",
     "timestamp": 1744367581375,
     "user": {
      "displayName": "Naif",
      "userId": "04792772835531511803"
     },
     "user_tz": -330
    },
    "id": "Kl3lJTVDaJ3N",
    "outputId": "e321ea4b-8e0e-43e5-8f11-0516447cfb35"
   },
   "outputs": [
    {
     "data": {
      "text/plain": [
       "int"
      ]
     },
     "execution_count": 23,
     "metadata": {},
     "output_type": "execute_result"
    }
   ],
   "source": [
    "x=1\n",
    "type(x)"
   ]
  },
  {
   "cell_type": "code",
   "execution_count": 24,
   "metadata": {
    "colab": {
     "base_uri": "https://localhost:8080/"
    },
    "executionInfo": {
     "elapsed": 14,
     "status": "ok",
     "timestamp": 1744367593444,
     "user": {
      "displayName": "Naif",
      "userId": "04792772835531511803"
     },
     "user_tz": -330
    },
    "id": "BP1NFhCLaLxk",
    "outputId": "89b6e79b-a4cf-45cd-9c9d-e65d9dd71c8c"
   },
   "outputs": [
    {
     "data": {
      "text/plain": [
       "float"
      ]
     },
     "execution_count": 24,
     "metadata": {},
     "output_type": "execute_result"
    }
   ],
   "source": [
    "type(float(x))"
   ]
  },
  {
   "cell_type": "code",
   "execution_count": 28,
   "metadata": {
    "colab": {
     "base_uri": "https://localhost:8080/"
    },
    "executionInfo": {
     "elapsed": 10,
     "status": "ok",
     "timestamp": 1744367664839,
     "user": {
      "displayName": "Naif",
      "userId": "04792772835531511803"
     },
     "user_tz": -330
    },
    "id": "DhcaPHkuadue",
    "outputId": "6fdc74a2-f805-4461-e9ee-3aa0507a0304"
   },
   "outputs": [
    {
     "data": {
      "text/plain": [
       "set"
      ]
     },
     "execution_count": 28,
     "metadata": {},
     "output_type": "execute_result"
    }
   ],
   "source": [
    "set1={1,2,3}\n",
    "type(set1)"
   ]
  },
  {
   "cell_type": "code",
   "execution_count": 29,
   "metadata": {
    "colab": {
     "base_uri": "https://localhost:8080/"
    },
    "executionInfo": {
     "elapsed": 14,
     "status": "ok",
     "timestamp": 1744367682561,
     "user": {
      "displayName": "Naif",
      "userId": "04792772835531511803"
     },
     "user_tz": -330
    },
    "id": "VYAlxarHaj1z",
    "outputId": "eb7a59c6-e912-4f0c-e339-26b61ce4cb42"
   },
   "outputs": [
    {
     "data": {
      "text/plain": [
       "bool"
      ]
     },
     "execution_count": 29,
     "metadata": {},
     "output_type": "execute_result"
    }
   ],
   "source": [
    "t=True\n",
    "type(t)"
   ]
  },
  {
   "cell_type": "markdown",
   "metadata": {
    "id": "PJAYPw2ZaqV2"
   },
   "source": [
    "# Write a program that checks if a number is positive, negative, or zero."
   ]
  },
  {
   "cell_type": "code",
   "execution_count": 31,
   "metadata": {
    "colab": {
     "base_uri": "https://localhost:8080/"
    },
    "executionInfo": {
     "elapsed": 3510,
     "status": "ok",
     "timestamp": 1744368016771,
     "user": {
      "displayName": "Naif",
      "userId": "04792772835531511803"
     },
     "user_tz": -330
    },
    "id": "Zb9cXkMRbbs2",
    "outputId": "0f0a71d0-3ff1-47de-e456-38c531b96236"
   },
   "outputs": [
    {
     "name": "stdout",
     "output_type": "stream",
     "text": [
      "Enter your number-1\n",
      "-1 is negative\n"
     ]
    }
   ],
   "source": [
    "intnum=int(input(\"Enter your number\"))\n",
    "if intnum>0:\n",
    "   print(f\"{intnum} is positive\")\n",
    "elif intnum<0:\n",
    "   print(f\"{intnum} is negative\")\n",
    "else:\n",
    "   print(f\"{intnum} is zero\")"
   ]
  },
  {
   "cell_type": "markdown",
   "metadata": {
    "id": "W3gv5na2b_kx"
   },
   "source": [
    "# Write a for loop to print numbers from 1 to 10."
   ]
  },
  {
   "cell_type": "code",
   "execution_count": 35,
   "metadata": {
    "colab": {
     "base_uri": "https://localhost:8080/"
    },
    "executionInfo": {
     "elapsed": 16,
     "status": "ok",
     "timestamp": 1744368272624,
     "user": {
      "displayName": "Naif",
      "userId": "04792772835531511803"
     },
     "user_tz": -330
    },
    "id": "fICjov2xb02Y",
    "outputId": "7620b729-ba61-417d-ad69-28ec9dc9725d"
   },
   "outputs": [
    {
     "name": "stdout",
     "output_type": "stream",
     "text": [
      "1 2 3 4 5 6 7 8 9 10 "
     ]
    }
   ],
   "source": [
    "# range is used to specify the limits\n",
    "for i in range(1, 11):\n",
    "  print(i,end=\" \") # end is used to print in one line.\n"
   ]
  },
  {
   "cell_type": "markdown",
   "metadata": {
    "id": "bnZga0Poc6tU"
   },
   "source": [
    "# Write a Python program to find the sum of all even numbers between 1 and 50."
   ]
  },
  {
   "cell_type": "code",
   "execution_count": 40,
   "metadata": {
    "colab": {
     "base_uri": "https://localhost:8080/"
    },
    "executionInfo": {
     "elapsed": 11,
     "status": "ok",
     "timestamp": 1744368535076,
     "user": {
      "displayName": "Naif",
      "userId": "04792772835531511803"
     },
     "user_tz": -330
    },
    "id": "O7VKpOtFca5r",
    "outputId": "719ab010-42b5-4b49-89af-605b36756448"
   },
   "outputs": [
    {
     "name": "stdout",
     "output_type": "stream",
     "text": [
      "2 4 6 8 10 12 14 16 18 20 22 24 26 28 30 32 34 36 38 40 42 44 46 48 50 "
     ]
    }
   ],
   "source": [
    "for i in range(1,51):\n",
    "  if i%2==0:\n",
    "    print(i,end=\" \")"
   ]
  },
  {
   "cell_type": "markdown",
   "metadata": {
    "id": "vtFfnMDMhHJB"
   },
   "source": [
    "# Write a program to reverse a string using a while loop"
   ]
  },
  {
   "cell_type": "code",
   "execution_count": null,
   "metadata": {
    "executionInfo": {
     "elapsed": 5,
     "status": "ok",
     "timestamp": 1744369575039,
     "user": {
      "displayName": "Naif",
      "userId": "04792772835531511803"
     },
     "user_tz": -330
    },
    "id": "c7s8fm02dc5e"
   },
   "outputs": [
    {
     "name": "stdout",
     "output_type": "stream",
     "text": [
      "OG string: Naif\n",
      "Reversed_string: fiaN\n"
     ]
    }
   ],
   "source": [
    "# Input string\n",
    "string =input(\"Enter your string\")\n",
    "\n",
    "# Splitting the string manually into a list\n",
    "i = 0\n",
    "characters = []\n",
    "while i < len(string):\n",
    "    characters.append(string[i])\n",
    "    i += 1\n",
    "\n",
    "# Now reverse the string using while loop\n",
    "reversed_text = \"\"\n",
    "j = len(characters) - 1\n",
    "while j >= 0:\n",
    "    reversed_text += characters[j]\n",
    "    j -= 1\n",
    "\n",
    "print(\"OG string:\", string)\n",
    "print(\"Reversed_string:\", reversed_text)\n"
   ]
  },
  {
   "cell_type": "markdown",
   "metadata": {
    "id": "JPFWMzJQi6QU"
   },
   "source": [
    "# Write a Python program to calculate the factorial of a number provided by the user using a while loop"
   ]
  },
  {
   "cell_type": "code",
   "execution_count": 49,
   "metadata": {
    "colab": {
     "base_uri": "https://localhost:8080/"
    },
    "executionInfo": {
     "elapsed": 1691,
     "status": "ok",
     "timestamp": 1744370130259,
     "user": {
      "displayName": "Naif",
      "userId": "04792772835531511803"
     },
     "user_tz": -330
    },
    "id": "j4JyqUeHi61i",
    "outputId": "7cb4eb3e-2d0d-4051-f821-3443e11c190c"
   },
   "outputs": [
    {
     "name": "stdout",
     "output_type": "stream",
     "text": [
      "Enter a number: 5\n",
      "The number 5 factorial is: 120\n"
     ]
    }
   ],
   "source": [
    "#n!= n*........4*3*2*1=\n",
    "num = int(input(\"Enter a number: \"))\n",
    "fact = 1\n",
    "i = 1\n",
    "\n",
    "while i <= num:\n",
    "    fact = fact * i\n",
    "    i = i + 1\n",
    "\n",
    "print(f\"The number {num} factorial is:\", fact)\n"
   ]
  },
  {
   "cell_type": "markdown",
   "metadata": {
    "id": "UJuTXo4bkJDE"
   },
   "source": [
    "# Write a function to demonstrate the behavior of mutable and immutable arguments."
   ]
  },
  {
   "cell_type": "code",
   "execution_count": 50,
   "metadata": {
    "executionInfo": {
     "elapsed": 41,
     "status": "ok",
     "timestamp": 1744370402412,
     "user": {
      "displayName": "Naif",
      "userId": "04792772835531511803"
     },
     "user_tz": -330
    },
    "id": "aG0djdtmkK9E"
   },
   "outputs": [],
   "source": [
    "#don't know how to do it, I learn it anyway!\n"
   ]
  }
 ],
 "metadata": {
  "colab": {
   "authorship_tag": "ABX9TyN5GCdCnKbehI8wl/QCiYwV",
   "provenance": []
  },
  "kernelspec": {
   "display_name": "Python 3",
   "name": "python3"
  },
  "language_info": {
   "codemirror_mode": {
    "name": "ipython",
    "version": 3
   },
   "file_extension": ".py",
   "mimetype": "text/x-python",
   "name": "python",
   "nbconvert_exporter": "python",
   "pygments_lexer": "ipython3",
   "version": "3.13.2"
  }
 },
 "nbformat": 4,
 "nbformat_minor": 0
}
